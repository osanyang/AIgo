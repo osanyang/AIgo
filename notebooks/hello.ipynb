{
 "cells": [
  {
   "cell_type": "code",
   "execution_count": 3,
   "metadata": {},
   "outputs": [],
   "source": [
    "import pandas as pd\n",
    "import numpy as np"
   ]
  },
  {
   "cell_type": "code",
   "execution_count": null,
   "metadata": {},
   "outputs": [],
   "source": [
    "!install torch"
   ]
  },
  {
   "cell_type": "code",
   "execution_count": 7,
   "metadata": {},
   "outputs": [],
   "source": [
    "df_mentor = pd.read_excel('../data/mentors_10000.xlsx')"
   ]
  },
  {
   "cell_type": "code",
   "execution_count": 8,
   "metadata": {},
   "outputs": [
    {
     "data": {
      "text/html": [
       "<div>\n",
       "<style scoped>\n",
       "    .dataframe tbody tr th:only-of-type {\n",
       "        vertical-align: middle;\n",
       "    }\n",
       "\n",
       "    .dataframe tbody tr th {\n",
       "        vertical-align: top;\n",
       "    }\n",
       "\n",
       "    .dataframe thead th {\n",
       "        text-align: right;\n",
       "    }\n",
       "</style>\n",
       "<table border=\"1\" class=\"dataframe\">\n",
       "  <thead>\n",
       "    <tr style=\"text-align: right;\">\n",
       "      <th></th>\n",
       "      <th>name</th>\n",
       "      <th>experience</th>\n",
       "      <th>category</th>\n",
       "      <th>subcategory</th>\n",
       "    </tr>\n",
       "  </thead>\n",
       "  <tbody>\n",
       "    <tr>\n",
       "      <th>0</th>\n",
       "      <td>멘토1</td>\n",
       "      <td>7년</td>\n",
       "      <td>스포츠</td>\n",
       "      <td>이색 스포츠</td>\n",
       "    </tr>\n",
       "    <tr>\n",
       "      <th>1</th>\n",
       "      <td>멘토2</td>\n",
       "      <td>5년</td>\n",
       "      <td>사주타로</td>\n",
       "      <td>타로</td>\n",
       "    </tr>\n",
       "    <tr>\n",
       "      <th>2</th>\n",
       "      <td>멘토3</td>\n",
       "      <td>10년</td>\n",
       "      <td>데이터개발AI</td>\n",
       "      <td>웹 앱 개발</td>\n",
       "    </tr>\n",
       "    <tr>\n",
       "      <th>3</th>\n",
       "      <td>멘토4</td>\n",
       "      <td>7년</td>\n",
       "      <td>뷰티</td>\n",
       "      <td>스킨 케어</td>\n",
       "    </tr>\n",
       "    <tr>\n",
       "      <th>4</th>\n",
       "      <td>멘토5</td>\n",
       "      <td>5년</td>\n",
       "      <td>비즈니스경영</td>\n",
       "      <td>서비스 기획</td>\n",
       "    </tr>\n",
       "    <tr>\n",
       "      <th>...</th>\n",
       "      <td>...</td>\n",
       "      <td>...</td>\n",
       "      <td>...</td>\n",
       "      <td>...</td>\n",
       "    </tr>\n",
       "    <tr>\n",
       "      <th>9995</th>\n",
       "      <td>멘토9996</td>\n",
       "      <td>3년</td>\n",
       "      <td>라이프스타일</td>\n",
       "      <td>에세이 시</td>\n",
       "    </tr>\n",
       "    <tr>\n",
       "      <th>9996</th>\n",
       "      <td>멘토9997</td>\n",
       "      <td>3년</td>\n",
       "      <td>뷰티</td>\n",
       "      <td>헤어 네일</td>\n",
       "    </tr>\n",
       "    <tr>\n",
       "      <th>9997</th>\n",
       "      <td>멘토9998</td>\n",
       "      <td>7년</td>\n",
       "      <td>비즈니스경영</td>\n",
       "      <td>영업MD</td>\n",
       "    </tr>\n",
       "    <tr>\n",
       "      <th>9998</th>\n",
       "      <td>멘토9999</td>\n",
       "      <td>4년</td>\n",
       "      <td>마케팅</td>\n",
       "      <td>퍼포먼스마케팅</td>\n",
       "    </tr>\n",
       "    <tr>\n",
       "      <th>9999</th>\n",
       "      <td>멘토10000</td>\n",
       "      <td>3년</td>\n",
       "      <td>마케팅</td>\n",
       "      <td>SNS채널육성</td>\n",
       "    </tr>\n",
       "  </tbody>\n",
       "</table>\n",
       "<p>10000 rows × 4 columns</p>\n",
       "</div>"
      ],
      "text/plain": [
       "         name experience category subcategory\n",
       "0         멘토1         7년      스포츠      이색 스포츠\n",
       "1         멘토2         5년     사주타로          타로\n",
       "2         멘토3        10년  데이터개발AI      웹 앱 개발\n",
       "3         멘토4         7년       뷰티       스킨 케어\n",
       "4         멘토5         5년   비즈니스경영      서비스 기획\n",
       "...       ...        ...      ...         ...\n",
       "9995   멘토9996         3년   라이프스타일       에세이 시\n",
       "9996   멘토9997         3년       뷰티       헤어 네일\n",
       "9997   멘토9998         7년   비즈니스경영        영업MD\n",
       "9998   멘토9999         4년      마케팅     퍼포먼스마케팅\n",
       "9999  멘토10000         3년      마케팅     SNS채널육성\n",
       "\n",
       "[10000 rows x 4 columns]"
      ]
     },
     "execution_count": 8,
     "metadata": {},
     "output_type": "execute_result"
    }
   ],
   "source": [
    "df_mentor"
   ]
  },
  {
   "cell_type": "code",
   "execution_count": 9,
   "metadata": {},
   "outputs": [],
   "source": [
    "# experience의 년을 숫자로 만듬\n",
    "df_mentor['experience'] = df_mentor['experience'].str.replace('년','').astype(int)"
   ]
  },
  {
   "cell_type": "code",
   "execution_count": null,
   "metadata": {},
   "outputs": [],
   "source": []
  }
 ],
 "metadata": {
  "kernelspec": {
   "display_name": "base",
   "language": "python",
   "name": "python3"
  },
  "language_info": {
   "codemirror_mode": {
    "name": "ipython",
    "version": 3
   },
   "file_extension": ".py",
   "mimetype": "text/x-python",
   "name": "python",
   "nbconvert_exporter": "python",
   "pygments_lexer": "ipython3",
   "version": "3.8.3"
  }
 },
 "nbformat": 4,
 "nbformat_minor": 2
}
